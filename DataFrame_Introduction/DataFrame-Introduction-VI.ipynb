{
 "cells": [
  {
   "cell_type": "markdown",
   "metadata": {},
   "source": [
    "### Astype method\n",
    "* The astype method converts a Series's value to a specified type.\n",
    "* Pass in the specified type as either a string or the core Python data type.\n",
    "* Pandas cannot convert NaN values to numeric types, so we need to eliminate/replace them before we perform the conversion.\n",
    "* The dtypes attribute returns a Series and DataFrame's columns and their types."
   ]
  },
  {
   "cell_type": "code",
   "execution_count": 11,
   "metadata": {},
   "outputs": [],
   "source": [
    "import pandas as pd"
   ]
  },
  {
   "cell_type": "code",
   "execution_count": 12,
   "metadata": {},
   "outputs": [],
   "source": [
    "dataframe = pd.read_csv(\"Crime Prediction in Chicago_Dataset.csv\").dropna(how='all')"
   ]
  },
  {
   "cell_type": "code",
   "execution_count": 13,
   "metadata": {},
   "outputs": [
    {
     "data": {
      "text/plain": [
       "ID                        int64\n",
       "Case Number              object\n",
       "Date                     object\n",
       "Block                    object\n",
       "IUCR                     object\n",
       "Primary Type             object\n",
       "Description              object\n",
       "Location Description     object\n",
       "Arrest                     bool\n",
       "Domestic                   bool\n",
       "Beat                      int64\n",
       "District                  int64\n",
       "Ward                    float64\n",
       "Community Area            int64\n",
       "FBI Code                 object\n",
       "X Coordinate            float64\n",
       "Y Coordinate            float64\n",
       "Year                      int64\n",
       "Updated On               object\n",
       "Latitude                float64\n",
       "Longitude               float64\n",
       "Location                 object\n",
       "dtype: object"
      ]
     },
     "execution_count": 13,
     "metadata": {},
     "output_type": "execute_result"
    }
   ],
   "source": [
    "dataframe.dtypes"
   ]
  },
  {
   "cell_type": "code",
   "execution_count": 14,
   "metadata": {},
   "outputs": [
    {
     "data": {
      "text/plain": [
       "True"
      ]
     },
     "execution_count": 14,
     "metadata": {},
     "output_type": "execute_result"
    }
   ],
   "source": [
    "dataframe.isnull().values.any()"
   ]
  },
  {
   "cell_type": "code",
   "execution_count": 15,
   "metadata": {},
   "outputs": [
    {
     "data": {
      "text/plain": [
       "array(['ID', 'Case Number', 'Date', 'Block', 'IUCR', 'Primary Type',\n",
       "       'Description', 'Location Description', 'Arrest', 'Domestic',\n",
       "       'Beat', 'District', 'Ward', 'Community Area', 'FBI Code',\n",
       "       'X Coordinate', 'Y Coordinate', 'Year', 'Updated On', 'Latitude',\n",
       "       'Longitude', 'Location'], dtype=object)"
      ]
     },
     "execution_count": 15,
     "metadata": {},
     "output_type": "execute_result"
    }
   ],
   "source": [
    "dataframe.columns.values"
   ]
  },
  {
   "cell_type": "code",
   "execution_count": 21,
   "metadata": {},
   "outputs": [],
   "source": [
    "# fill NaN values before using astype method\n",
    "\n",
    "fill_values = {\n",
    "    \"ID\": 0,\n",
    "    \"Case Number\": \"Unknown\",\n",
    "    \"Date\": \"Unknown\",\n",
    "    \"Block\": \"Unknown\",\n",
    "    \"IUCR\": \"Unknown\",\n",
    "    \"Primary Type\": \"Unknown\",\n",
    "    \"Description\": \"Unknown\",\n",
    "    \"Location Description\": \"Unknown\",\n",
    "    \"Arrest\": \"Unknown\",\n",
    "    \"Domestic\": \"Unknown\",\n",
    "    \"Beat\": 0,\n",
    "    \"District\": 0,\n",
    "    \"Ward\": 0,\n",
    "    \"Community Area\": 0,\n",
    "    \"FBI Code\": \"Unknown\",\n",
    "    \"X Coordinate\": 0,\n",
    "    \"Y Coordinate\": 0,\n",
    "    \"Year\": 0,\n",
    "    \"Updated On\": \"Unknown\",\n",
    "    \"Latitude\": 0,\n",
    "    \"Longitude\": 0,\n",
    "    \"Location\": \"0\"\n",
    "}\n",
    "dataframe = dataframe.fillna(fill_values)"
   ]
  },
  {
   "cell_type": "code",
   "execution_count": 22,
   "metadata": {},
   "outputs": [
    {
     "data": {
      "text/plain": [
       "False"
      ]
     },
     "execution_count": 22,
     "metadata": {},
     "output_type": "execute_result"
    }
   ],
   "source": [
    "dataframe.isnull().values.any()"
   ]
  },
  {
   "cell_type": "code",
   "execution_count": 24,
   "metadata": {},
   "outputs": [],
   "source": [
    "dataframe['Ward'] = dataframe['Ward'].astype(int)"
   ]
  },
  {
   "cell_type": "code",
   "execution_count": 25,
   "metadata": {},
   "outputs": [
    {
     "data": {
      "text/plain": [
       "0        16\n",
       "1         5\n",
       "2        39\n",
       "3        17\n",
       "4         4\n",
       "         ..\n",
       "45418    14\n",
       "45419    49\n",
       "45420     6\n",
       "45421    18\n",
       "45422     7\n",
       "Name: Ward, Length: 45423, dtype: int32"
      ]
     },
     "execution_count": 25,
     "metadata": {},
     "output_type": "execute_result"
    }
   ],
   "source": [
    "dataframe['Ward']"
   ]
  },
  {
   "cell_type": "code",
   "execution_count": 26,
   "metadata": {},
   "outputs": [
    {
     "data": {
      "text/plain": [
       "ID                        int64\n",
       "Case Number              object\n",
       "Date                     object\n",
       "Block                    object\n",
       "IUCR                     object\n",
       "Primary Type             object\n",
       "Description              object\n",
       "Location Description     object\n",
       "Arrest                     bool\n",
       "Domestic                   bool\n",
       "Beat                      int64\n",
       "District                  int64\n",
       "Ward                      int32\n",
       "Community Area            int64\n",
       "FBI Code                 object\n",
       "X Coordinate            float64\n",
       "Y Coordinate            float64\n",
       "Year                      int64\n",
       "Updated On               object\n",
       "Latitude                float64\n",
       "Longitude               float64\n",
       "Location                 object\n",
       "dtype: object"
      ]
     },
     "execution_count": 26,
     "metadata": {},
     "output_type": "execute_result"
    }
   ],
   "source": [
    "dataframe.dtypes"
   ]
  },
  {
   "cell_type": "markdown",
   "metadata": {},
   "source": [
    "### Astype method II\n",
    "* The **category** type is ideal for columns with a limited number of unique values.\n",
    "* The **nunique** method will return a Series with the number of unique values in each column.\n",
    "* With categories, pandas does not create a separate value in memory for each 'cell'. Rather, the cells point to a single copy of each unique value."
   ]
  },
  {
   "cell_type": "code",
   "execution_count": 31,
   "metadata": {},
   "outputs": [
    {
     "data": {
      "text/plain": [
       "31"
      ]
     },
     "execution_count": 31,
     "metadata": {},
     "output_type": "execute_result"
    }
   ],
   "source": [
    "dataframe['Primary Type'].nunique()"
   ]
  },
  {
   "cell_type": "code",
   "execution_count": 32,
   "metadata": {},
   "outputs": [
    {
     "data": {
      "text/plain": [
       "ID                      45423\n",
       "Case Number             45419\n",
       "Date                    28199\n",
       "Block                   16626\n",
       "IUCR                      270\n",
       "Primary Type               31\n",
       "Description               251\n",
       "Location Description      108\n",
       "Arrest                      2\n",
       "Domestic                    2\n",
       "Beat                      274\n",
       "District                   23\n",
       "Ward                       51\n",
       "Community Area             77\n",
       "FBI Code                   26\n",
       "X Coordinate            23501\n",
       "Y Coordinate            26562\n",
       "Year                        1\n",
       "Updated On                954\n",
       "Latitude                31719\n",
       "Longitude               31715\n",
       "Location                31733\n",
       "dtype: int64"
      ]
     },
     "execution_count": 32,
     "metadata": {},
     "output_type": "execute_result"
    }
   ],
   "source": [
    "dataframe.nunique()"
   ]
  },
  {
   "cell_type": "code",
   "execution_count": 33,
   "metadata": {},
   "outputs": [
    {
     "name": "stdout",
     "output_type": "stream",
     "text": [
      "<class 'pandas.core.frame.DataFrame'>\n",
      "RangeIndex: 45423 entries, 0 to 45422\n",
      "Data columns (total 22 columns):\n",
      " #   Column                Non-Null Count  Dtype  \n",
      "---  ------                --------------  -----  \n",
      " 0   ID                    45423 non-null  int64  \n",
      " 1   Case Number           45423 non-null  object \n",
      " 2   Date                  45423 non-null  object \n",
      " 3   Block                 45423 non-null  object \n",
      " 4   IUCR                  45423 non-null  object \n",
      " 5   Primary Type          45423 non-null  object \n",
      " 6   Description           45423 non-null  object \n",
      " 7   Location Description  45423 non-null  object \n",
      " 8   Arrest                45423 non-null  bool   \n",
      " 9   Domestic              45423 non-null  bool   \n",
      " 10  Beat                  45423 non-null  int64  \n",
      " 11  District              45423 non-null  int64  \n",
      " 12  Ward                  45423 non-null  int32  \n",
      " 13  Community Area        45423 non-null  int64  \n",
      " 14  FBI Code              45423 non-null  object \n",
      " 15  X Coordinate          45423 non-null  float64\n",
      " 16  Y Coordinate          45423 non-null  float64\n",
      " 17  Year                  45423 non-null  int64  \n",
      " 18  Updated On            45423 non-null  object \n",
      " 19  Latitude              45423 non-null  float64\n",
      " 20  Longitude             45423 non-null  float64\n",
      " 21  Location              45423 non-null  object \n",
      "dtypes: bool(2), float64(4), int32(1), int64(5), object(10)\n",
      "memory usage: 6.8+ MB\n"
     ]
    }
   ],
   "source": [
    "dataframe.info()"
   ]
  },
  {
   "cell_type": "code",
   "execution_count": 34,
   "metadata": {},
   "outputs": [
    {
     "data": {
      "text/plain": [
       "0            OTHER OFFENSE\n",
       "1              SEX OFFENSE\n",
       "2              SEX OFFENSE\n",
       "3        WEAPONS VIOLATION\n",
       "4                    THEFT\n",
       "               ...        \n",
       "45418              ROBBERY\n",
       "45419      CRIMINAL DAMAGE\n",
       "45420    WEAPONS VIOLATION\n",
       "45421      CRIMINAL DAMAGE\n",
       "45422              BATTERY\n",
       "Name: Primary Type, Length: 45423, dtype: category\n",
       "Categories (31, object): ['ARSON', 'ASSAULT', 'BATTERY', 'BURGLARY', ..., 'SEX OFFENSE', 'STALKING', 'THEFT', 'WEAPONS VIOLATION']"
      ]
     },
     "execution_count": 34,
     "metadata": {},
     "output_type": "execute_result"
    }
   ],
   "source": [
    "dataframe['Primary Type'].astype('category')"
   ]
  },
  {
   "cell_type": "code",
   "execution_count": 37,
   "metadata": {},
   "outputs": [],
   "source": [
    "dataframe['Location Description'] = dataframe['Location Description'].astype('category')\n",
    "dataframe['Arrest'] = dataframe['Arrest'].astype('category')\n",
    "dataframe['Domestic'] = dataframe['Domestic'].astype('category')\n",
    "dataframe['Beat'] = dataframe['Beat'].astype('category')\n",
    "dataframe['District'] = dataframe['District'].astype('category')\n",
    "dataframe['Ward'] = dataframe['Ward'].astype('category')\n",
    "dataframe['Community Area'] = dataframe['Community Area'].astype('category')\n",
    "dataframe['FBI Code'] = dataframe['FBI Code'].astype('category')"
   ]
  },
  {
   "cell_type": "code",
   "execution_count": 38,
   "metadata": {},
   "outputs": [
    {
     "name": "stdout",
     "output_type": "stream",
     "text": [
      "<class 'pandas.core.frame.DataFrame'>\n",
      "RangeIndex: 45423 entries, 0 to 45422\n",
      "Data columns (total 22 columns):\n",
      " #   Column                Non-Null Count  Dtype   \n",
      "---  ------                --------------  -----   \n",
      " 0   ID                    45423 non-null  int64   \n",
      " 1   Case Number           45423 non-null  object  \n",
      " 2   Date                  45423 non-null  object  \n",
      " 3   Block                 45423 non-null  object  \n",
      " 4   IUCR                  45423 non-null  object  \n",
      " 5   Primary Type          45423 non-null  category\n",
      " 6   Description           45423 non-null  object  \n",
      " 7   Location Description  45423 non-null  category\n",
      " 8   Arrest                45423 non-null  category\n",
      " 9   Domestic              45423 non-null  category\n",
      " 10  Beat                  45423 non-null  category\n",
      " 11  District              45423 non-null  category\n",
      " 12  Ward                  45423 non-null  category\n",
      " 13  Community Area        45423 non-null  category\n",
      " 14  FBI Code              45423 non-null  category\n",
      " 15  X Coordinate          45423 non-null  float64 \n",
      " 16  Y Coordinate          45423 non-null  float64 \n",
      " 17  Year                  45423 non-null  int64   \n",
      " 18  Updated On            45423 non-null  object  \n",
      " 19  Latitude              45423 non-null  float64 \n",
      " 20  Longitude             45423 non-null  float64 \n",
      " 21  Location              45423 non-null  object  \n",
      "dtypes: category(9), float64(4), int64(2), object(7)\n",
      "memory usage: 5.0+ MB\n"
     ]
    }
   ],
   "source": [
    "dataframe.info()"
   ]
  },
  {
   "cell_type": "code",
   "execution_count": null,
   "metadata": {},
   "outputs": [],
   "source": []
  }
 ],
 "metadata": {
  "kernelspec": {
   "display_name": "Python 3",
   "language": "python",
   "name": "python3"
  },
  "language_info": {
   "codemirror_mode": {
    "name": "ipython",
    "version": 3
   },
   "file_extension": ".py",
   "mimetype": "text/x-python",
   "name": "python",
   "nbconvert_exporter": "python",
   "pygments_lexer": "ipython3",
   "version": "3.11.5"
  }
 },
 "nbformat": 4,
 "nbformat_minor": 2
}
