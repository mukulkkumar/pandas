{
 "cells": [
  {
   "cell_type": "markdown",
   "metadata": {},
   "source": [
    "### Common string methods\n",
    "* A series has a special **str** attribute that exposes an object with string methods.\n",
    "* Access the **str** attribute, then invoke the string method on the nested object.\n",
    "* Most method names will match their Python method equivalents (upper, lower, title e.t.c)."
   ]
  },
  {
   "cell_type": "code",
   "execution_count": 1,
   "metadata": {},
   "outputs": [],
   "source": [
    "import pandas as pd"
   ]
  },
  {
   "cell_type": "code",
   "execution_count": 2,
   "metadata": {},
   "outputs": [],
   "source": [
    "dataframe = pd.read_csv(\"../Crime Prediction in Chicago_Dataset.csv\", index_col=\"ID\").sort_index()"
   ]
  },
  {
   "cell_type": "code",
   "execution_count": 3,
   "metadata": {},
   "outputs": [
    {
     "data": {
      "text/html": [
       "<div>\n",
       "<style scoped>\n",
       "    .dataframe tbody tr th:only-of-type {\n",
       "        vertical-align: middle;\n",
       "    }\n",
       "\n",
       "    .dataframe tbody tr th {\n",
       "        vertical-align: top;\n",
       "    }\n",
       "\n",
       "    .dataframe thead th {\n",
       "        text-align: right;\n",
       "    }\n",
       "</style>\n",
       "<table border=\"1\" class=\"dataframe\">\n",
       "  <thead>\n",
       "    <tr style=\"text-align: right;\">\n",
       "      <th></th>\n",
       "      <th>Case Number</th>\n",
       "      <th>Date</th>\n",
       "      <th>Block</th>\n",
       "      <th>IUCR</th>\n",
       "      <th>Primary Type</th>\n",
       "      <th>Description</th>\n",
       "      <th>Location Description</th>\n",
       "      <th>Arrest</th>\n",
       "      <th>Domestic</th>\n",
       "      <th>Beat</th>\n",
       "      <th>...</th>\n",
       "      <th>Ward</th>\n",
       "      <th>Community Area</th>\n",
       "      <th>FBI Code</th>\n",
       "      <th>X Coordinate</th>\n",
       "      <th>Y Coordinate</th>\n",
       "      <th>Year</th>\n",
       "      <th>Updated On</th>\n",
       "      <th>Latitude</th>\n",
       "      <th>Longitude</th>\n",
       "      <th>Location</th>\n",
       "    </tr>\n",
       "    <tr>\n",
       "      <th>ID</th>\n",
       "      <th></th>\n",
       "      <th></th>\n",
       "      <th></th>\n",
       "      <th></th>\n",
       "      <th></th>\n",
       "      <th></th>\n",
       "      <th></th>\n",
       "      <th></th>\n",
       "      <th></th>\n",
       "      <th></th>\n",
       "      <th></th>\n",
       "      <th></th>\n",
       "      <th></th>\n",
       "      <th></th>\n",
       "      <th></th>\n",
       "      <th></th>\n",
       "      <th></th>\n",
       "      <th></th>\n",
       "      <th></th>\n",
       "      <th></th>\n",
       "      <th></th>\n",
       "    </tr>\n",
       "  </thead>\n",
       "  <tbody>\n",
       "    <tr>\n",
       "      <th>26595</th>\n",
       "      <td>JF130370</td>\n",
       "      <td>02-01-2022 07:15</td>\n",
       "      <td>009XX E 79TH ST</td>\n",
       "      <td>110</td>\n",
       "      <td>HOMICIDE</td>\n",
       "      <td>FIRST DEGREE MURDER</td>\n",
       "      <td>STREET</td>\n",
       "      <td>True</td>\n",
       "      <td>False</td>\n",
       "      <td>624</td>\n",
       "      <td>...</td>\n",
       "      <td>8.0</td>\n",
       "      <td>69</td>\n",
       "      <td>01A</td>\n",
       "      <td>1184039.0</td>\n",
       "      <td>1852826.0</td>\n",
       "      <td>2022</td>\n",
       "      <td>01-01-2024 15:40</td>\n",
       "      <td>41.751331</td>\n",
       "      <td>-87.601155</td>\n",
       "      <td>(41.751330763, -87.601154923)</td>\n",
       "    </tr>\n",
       "    <tr>\n",
       "      <th>26596</th>\n",
       "      <td>JF130370</td>\n",
       "      <td>02-01-2022 06:54</td>\n",
       "      <td>009XX E 79TH ST</td>\n",
       "      <td>110</td>\n",
       "      <td>HOMICIDE</td>\n",
       "      <td>FIRST DEGREE MURDER</td>\n",
       "      <td>STREET</td>\n",
       "      <td>True</td>\n",
       "      <td>False</td>\n",
       "      <td>624</td>\n",
       "      <td>...</td>\n",
       "      <td>8.0</td>\n",
       "      <td>69</td>\n",
       "      <td>01A</td>\n",
       "      <td>1184039.0</td>\n",
       "      <td>1852826.0</td>\n",
       "      <td>2022</td>\n",
       "      <td>01-01-2024 15:40</td>\n",
       "      <td>41.751331</td>\n",
       "      <td>-87.601155</td>\n",
       "      <td>(41.751330763, -87.601154923)</td>\n",
       "    </tr>\n",
       "    <tr>\n",
       "      <th>26630</th>\n",
       "      <td>JF154557</td>\n",
       "      <td>2/24/2022 12:05</td>\n",
       "      <td>097XX S HALSTED ST</td>\n",
       "      <td>110</td>\n",
       "      <td>HOMICIDE</td>\n",
       "      <td>FIRST DEGREE MURDER</td>\n",
       "      <td>PARKING LOT</td>\n",
       "      <td>True</td>\n",
       "      <td>False</td>\n",
       "      <td>2223</td>\n",
       "      <td>...</td>\n",
       "      <td>21.0</td>\n",
       "      <td>73</td>\n",
       "      <td>01A</td>\n",
       "      <td>1172697.0</td>\n",
       "      <td>1840207.0</td>\n",
       "      <td>2022</td>\n",
       "      <td>03-02-2024 15:40</td>\n",
       "      <td>41.716960</td>\n",
       "      <td>-87.643088</td>\n",
       "      <td>(41.716959853, -87.643088472)</td>\n",
       "    </tr>\n",
       "    <tr>\n",
       "      <th>26667</th>\n",
       "      <td>JF183032</td>\n",
       "      <td>3/22/2022 22:29</td>\n",
       "      <td>019XX E 73RD PL</td>\n",
       "      <td>110</td>\n",
       "      <td>HOMICIDE</td>\n",
       "      <td>FIRST DEGREE MURDER</td>\n",
       "      <td>STREET</td>\n",
       "      <td>True</td>\n",
       "      <td>False</td>\n",
       "      <td>333</td>\n",
       "      <td>...</td>\n",
       "      <td>7.0</td>\n",
       "      <td>43</td>\n",
       "      <td>01A</td>\n",
       "      <td>1190632.0</td>\n",
       "      <td>1856624.0</td>\n",
       "      <td>2022</td>\n",
       "      <td>11-11-2023 15:40</td>\n",
       "      <td>41.761596</td>\n",
       "      <td>-87.576873</td>\n",
       "      <td>(41.761596299, -87.576872789)</td>\n",
       "    </tr>\n",
       "    <tr>\n",
       "      <th>26682</th>\n",
       "      <td>JF193651</td>\n",
       "      <td>04-01-2022 13:49</td>\n",
       "      <td>008XX N LECLAIRE AVE</td>\n",
       "      <td>110</td>\n",
       "      <td>HOMICIDE</td>\n",
       "      <td>FIRST DEGREE MURDER</td>\n",
       "      <td>STREET</td>\n",
       "      <td>True</td>\n",
       "      <td>False</td>\n",
       "      <td>1531</td>\n",
       "      <td>...</td>\n",
       "      <td>37.0</td>\n",
       "      <td>25</td>\n",
       "      <td>01A</td>\n",
       "      <td>1142204.0</td>\n",
       "      <td>1905065.0</td>\n",
       "      <td>2022</td>\n",
       "      <td>02-06-2024 15:41</td>\n",
       "      <td>41.895557</td>\n",
       "      <td>-87.753169</td>\n",
       "      <td>(41.895557198, -87.753168867)</td>\n",
       "    </tr>\n",
       "  </tbody>\n",
       "</table>\n",
       "<p>5 rows × 21 columns</p>\n",
       "</div>"
      ],
      "text/plain": [
       "      Case Number              Date                 Block IUCR Primary Type  \\\n",
       "ID                                                                            \n",
       "26595    JF130370  02-01-2022 07:15       009XX E 79TH ST  110     HOMICIDE   \n",
       "26596    JF130370  02-01-2022 06:54       009XX E 79TH ST  110     HOMICIDE   \n",
       "26630    JF154557   2/24/2022 12:05    097XX S HALSTED ST  110     HOMICIDE   \n",
       "26667    JF183032   3/22/2022 22:29       019XX E 73RD PL  110     HOMICIDE   \n",
       "26682    JF193651  04-01-2022 13:49  008XX N LECLAIRE AVE  110     HOMICIDE   \n",
       "\n",
       "               Description Location Description  Arrest  Domestic  Beat  ...  \\\n",
       "ID                                                                       ...   \n",
       "26595  FIRST DEGREE MURDER               STREET    True     False   624  ...   \n",
       "26596  FIRST DEGREE MURDER               STREET    True     False   624  ...   \n",
       "26630  FIRST DEGREE MURDER          PARKING LOT    True     False  2223  ...   \n",
       "26667  FIRST DEGREE MURDER               STREET    True     False   333  ...   \n",
       "26682  FIRST DEGREE MURDER               STREET    True     False  1531  ...   \n",
       "\n",
       "       Ward  Community Area  FBI Code X Coordinate  Y Coordinate  Year  \\\n",
       "ID                                                                       \n",
       "26595   8.0              69       01A    1184039.0     1852826.0  2022   \n",
       "26596   8.0              69       01A    1184039.0     1852826.0  2022   \n",
       "26630  21.0              73       01A    1172697.0     1840207.0  2022   \n",
       "26667   7.0              43       01A    1190632.0     1856624.0  2022   \n",
       "26682  37.0              25       01A    1142204.0     1905065.0  2022   \n",
       "\n",
       "             Updated On   Latitude  Longitude                       Location  \n",
       "ID                                                                            \n",
       "26595  01-01-2024 15:40  41.751331 -87.601155  (41.751330763, -87.601154923)  \n",
       "26596  01-01-2024 15:40  41.751331 -87.601155  (41.751330763, -87.601154923)  \n",
       "26630  03-02-2024 15:40  41.716960 -87.643088  (41.716959853, -87.643088472)  \n",
       "26667  11-11-2023 15:40  41.761596 -87.576873  (41.761596299, -87.576872789)  \n",
       "26682  02-06-2024 15:41  41.895557 -87.753169  (41.895557198, -87.753168867)  \n",
       "\n",
       "[5 rows x 21 columns]"
      ]
     },
     "execution_count": 3,
     "metadata": {},
     "output_type": "execute_result"
    }
   ],
   "source": [
    "dataframe.head()"
   ]
  },
  {
   "cell_type": "code",
   "execution_count": 6,
   "metadata": {},
   "outputs": [
    {
     "data": {
      "text/plain": [
       "ID\n",
       "26595                           first degree murder\n",
       "26596                           first degree murder\n",
       "26630                           first degree murder\n",
       "26667                           first degree murder\n",
       "26682                           first degree murder\n",
       "                             ...                   \n",
       "13627481        financial identity theft over $ 300\n",
       "13627576        financial identity theft over $ 300\n",
       "13627896    financial identity theft $300 and under\n",
       "13629868                             non-aggravated\n",
       "13630511    financial identity theft $300 and under\n",
       "Name: Description, Length: 45423, dtype: object"
      ]
     },
     "execution_count": 6,
     "metadata": {},
     "output_type": "execute_result"
    }
   ],
   "source": [
    "dataframe['Description'].str.lower()"
   ]
  },
  {
   "cell_type": "code",
   "execution_count": 7,
   "metadata": {},
   "outputs": [
    {
     "data": {
      "text/plain": [
       "ID\n",
       "26595                           FIRST DEGREE MURDER\n",
       "26596                           FIRST DEGREE MURDER\n",
       "26630                           FIRST DEGREE MURDER\n",
       "26667                           FIRST DEGREE MURDER\n",
       "26682                           FIRST DEGREE MURDER\n",
       "                             ...                   \n",
       "13627481        FINANCIAL IDENTITY THEFT OVER $ 300\n",
       "13627576        FINANCIAL IDENTITY THEFT OVER $ 300\n",
       "13627896    FINANCIAL IDENTITY THEFT $300 AND UNDER\n",
       "13629868                             NON-AGGRAVATED\n",
       "13630511    FINANCIAL IDENTITY THEFT $300 AND UNDER\n",
       "Name: Description, Length: 45423, dtype: object"
      ]
     },
     "execution_count": 7,
     "metadata": {},
     "output_type": "execute_result"
    }
   ],
   "source": [
    "dataframe['Description'].str.upper()"
   ]
  },
  {
   "cell_type": "code",
   "execution_count": 8,
   "metadata": {},
   "outputs": [
    {
     "data": {
      "text/plain": [
       "ID\n",
       "26595                           First Degree Murder\n",
       "26596                           First Degree Murder\n",
       "26630                           First Degree Murder\n",
       "26667                           First Degree Murder\n",
       "26682                           First Degree Murder\n",
       "                             ...                   \n",
       "13627481        Financial Identity Theft Over $ 300\n",
       "13627576        Financial Identity Theft Over $ 300\n",
       "13627896    Financial Identity Theft $300 And Under\n",
       "13629868                             Non-Aggravated\n",
       "13630511    Financial Identity Theft $300 And Under\n",
       "Name: Description, Length: 45423, dtype: object"
      ]
     },
     "execution_count": 8,
     "metadata": {},
     "output_type": "execute_result"
    }
   ],
   "source": [
    "dataframe['Description'].str.title()"
   ]
  },
  {
   "cell_type": "code",
   "execution_count": 9,
   "metadata": {},
   "outputs": [
    {
     "data": {
      "text/plain": [
       "ID\n",
       "26595       19\n",
       "26596       19\n",
       "26630       19\n",
       "26667       19\n",
       "26682       19\n",
       "            ..\n",
       "13627481    35\n",
       "13627576    35\n",
       "13627896    39\n",
       "13629868    14\n",
       "13630511    39\n",
       "Name: Description, Length: 45423, dtype: int64"
      ]
     },
     "execution_count": 9,
     "metadata": {},
     "output_type": "execute_result"
    }
   ],
   "source": [
    "dataframe['Description'].str.len()"
   ]
  },
  {
   "cell_type": "code",
   "execution_count": 10,
   "metadata": {},
   "outputs": [
    {
     "data": {
      "text/plain": [
       "ID\n",
       "26595       19\n",
       "26596       19\n",
       "26630       19\n",
       "26667       19\n",
       "26682       19\n",
       "            ..\n",
       "13627481    35\n",
       "13627576    35\n",
       "13627896    39\n",
       "13629868    14\n",
       "13630511    39\n",
       "Name: Description, Length: 45423, dtype: int64"
      ]
     },
     "execution_count": 10,
     "metadata": {},
     "output_type": "execute_result"
    }
   ],
   "source": [
    "dataframe['Description'].str.title().str.len()"
   ]
  },
  {
   "cell_type": "code",
   "execution_count": 11,
   "metadata": {},
   "outputs": [
    {
     "data": {
      "text/plain": [
       "ID\n",
       "26595                           FIRST DEGREE MURDER\n",
       "26596                           FIRST DEGREE MURDER\n",
       "26630                           FIRST DEGREE MURDER\n",
       "26667                           FIRST DEGREE MURDER\n",
       "26682                           FIRST DEGREE MURDER\n",
       "                             ...                   \n",
       "13627481        FINANCIAL IDENTITY THEFT OVER $ 300\n",
       "13627576        FINANCIAL IDENTITY THEFT OVER $ 300\n",
       "13627896    FINANCIAL IDENTITY THEFT $300 AND UNDER\n",
       "13629868                             NON-AGGRAVATED\n",
       "13630511    FINANCIAL IDENTITY THEFT $300 AND UNDER\n",
       "Name: Description, Length: 45423, dtype: object"
      ]
     },
     "execution_count": 11,
     "metadata": {},
     "output_type": "execute_result"
    }
   ],
   "source": [
    "dataframe['Description'].str.strip()"
   ]
  },
  {
   "cell_type": "code",
   "execution_count": null,
   "metadata": {},
   "outputs": [],
   "source": []
  }
 ],
 "metadata": {
  "kernelspec": {
   "display_name": "Python 3",
   "language": "python",
   "name": "python3"
  },
  "language_info": {
   "codemirror_mode": {
    "name": "ipython",
    "version": 3
   },
   "file_extension": ".py",
   "mimetype": "text/x-python",
   "name": "python",
   "nbconvert_exporter": "python",
   "pygments_lexer": "ipython3",
   "version": "3.11.5"
  }
 },
 "nbformat": 4,
 "nbformat_minor": 2
}
