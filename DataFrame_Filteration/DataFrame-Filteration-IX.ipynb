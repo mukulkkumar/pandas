{
 "cells": [
  {
   "cell_type": "markdown",
   "metadata": {},
   "source": [
    "### The unique and nunique methods\n",
    "* The **unique** method on a Series returns a collection of its unique values. The method does not exist on a DataFrame.\n",
    "* The **nunique** method returns a count of the number of unique values in the **Series/DataFrame**.\n",
    "* The **dropna** parameter configures whether to include or exclude missing **(NaN)** values."
   ]
  },
  {
   "cell_type": "code",
   "execution_count": 7,
   "metadata": {},
   "outputs": [],
   "source": [
    "import pandas as pd"
   ]
  },
  {
   "cell_type": "code",
   "execution_count": 8,
   "metadata": {},
   "outputs": [],
   "source": [
    "dataframe = pd.read_csv(\"Crime Prediction in Chicago_Dataset.csv\")"
   ]
  },
  {
   "cell_type": "code",
   "execution_count": 9,
   "metadata": {},
   "outputs": [
    {
     "data": {
      "text/plain": [
       "array(['OTHER OFFENSE', 'SEX OFFENSE', 'WEAPONS VIOLATION', 'THEFT',\n",
       "       'BATTERY', 'CRIMINAL SEXUAL ASSAULT', 'ROBBERY', 'BURGLARY',\n",
       "       'ARSON', 'OFFENSE INVOLVING CHILDREN', 'DECEPTIVE PRACTICE',\n",
       "       'ASSAULT', 'MOTOR VEHICLE THEFT', 'NARCOTICS', 'CRIMINAL DAMAGE',\n",
       "       'INTIMIDATION', 'STALKING', 'CRIMINAL TRESPASS', 'HOMICIDE',\n",
       "       'INTERFERENCE WITH PUBLIC OFFICER', 'OBSCENITY',\n",
       "       'PUBLIC PEACE VIOLATION', 'KIDNAPPING', 'LIQUOR LAW VIOLATION',\n",
       "       'OTHER NARCOTIC VIOLATION', 'HUMAN TRAFFICKING', 'PROSTITUTION',\n",
       "       'CONCEALED CARRY LICENSE VIOLATION', 'GAMBLING', 'NON-CRIMINAL',\n",
       "       'PUBLIC INDECENCY'], dtype=object)"
      ]
     },
     "execution_count": 9,
     "metadata": {},
     "output_type": "execute_result"
    }
   ],
   "source": [
    "dataframe['Primary Type'].unique()"
   ]
  },
  {
   "cell_type": "code",
   "execution_count": 12,
   "metadata": {},
   "outputs": [
    {
     "data": {
      "text/plain": [
       "31"
      ]
     },
     "execution_count": 12,
     "metadata": {},
     "output_type": "execute_result"
    }
   ],
   "source": [
    "dataframe['Primary Type'].nunique()"
   ]
  },
  {
   "cell_type": "code",
   "execution_count": 15,
   "metadata": {},
   "outputs": [
    {
     "data": {
      "text/plain": [
       "31"
      ]
     },
     "execution_count": 15,
     "metadata": {},
     "output_type": "execute_result"
    }
   ],
   "source": [
    "dataframe['Primary Type'].nunique(dropna=True)"
   ]
  },
  {
   "cell_type": "code",
   "execution_count": 16,
   "metadata": {},
   "outputs": [
    {
     "data": {
      "text/plain": [
       "ID                      45423\n",
       "Case Number             45419\n",
       "Date                    28199\n",
       "Block                   16626\n",
       "IUCR                      270\n",
       "Primary Type               31\n",
       "Description               251\n",
       "Location Description      107\n",
       "Arrest                      2\n",
       "Domestic                    2\n",
       "Beat                      274\n",
       "District                   23\n",
       "Ward                       50\n",
       "Community Area             77\n",
       "FBI Code                   26\n",
       "X Coordinate            23500\n",
       "Y Coordinate            26561\n",
       "Year                        1\n",
       "Updated On                954\n",
       "Latitude                31718\n",
       "Longitude               31714\n",
       "Location                31732\n",
       "dtype: int64"
      ]
     },
     "execution_count": 16,
     "metadata": {},
     "output_type": "execute_result"
    }
   ],
   "source": [
    "dataframe.nunique()"
   ]
  },
  {
   "cell_type": "code",
   "execution_count": 17,
   "metadata": {},
   "outputs": [
    {
     "data": {
      "text/plain": [
       "ID                      45423\n",
       "Case Number             45419\n",
       "Date                    28199\n",
       "Block                   16626\n",
       "IUCR                      270\n",
       "Primary Type               31\n",
       "Description               251\n",
       "Location Description      107\n",
       "Arrest                      2\n",
       "Domestic                    2\n",
       "Beat                      274\n",
       "District                   23\n",
       "Ward                       50\n",
       "Community Area             77\n",
       "FBI Code                   26\n",
       "X Coordinate            23500\n",
       "Y Coordinate            26561\n",
       "Year                        1\n",
       "Updated On                954\n",
       "Latitude                31718\n",
       "Longitude               31714\n",
       "Location                31732\n",
       "dtype: int64"
      ]
     },
     "execution_count": 17,
     "metadata": {},
     "output_type": "execute_result"
    }
   ],
   "source": [
    "dataframe.nunique(dropna=True)"
   ]
  },
  {
   "cell_type": "code",
   "execution_count": null,
   "metadata": {},
   "outputs": [],
   "source": []
  }
 ],
 "metadata": {
  "kernelspec": {
   "display_name": "Python 3",
   "language": "python",
   "name": "python3"
  },
  "language_info": {
   "codemirror_mode": {
    "name": "ipython",
    "version": 3
   },
   "file_extension": ".py",
   "mimetype": "text/x-python",
   "name": "python",
   "nbconvert_exporter": "python",
   "pygments_lexer": "ipython3",
   "version": "3.11.5"
  }
 },
 "nbformat": 4,
 "nbformat_minor": 2
}
