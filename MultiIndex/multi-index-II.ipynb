{
 "cells": [
  {
   "cell_type": "markdown",
   "metadata": {},
   "source": [
    "### Extract Index Level Values\n",
    "* The **get_level_values** method extracts an **Index** with the values from one level in the **MultiIndex**.\n",
    "* Invoke the **get_level_values** on the **MultiIndex**, not the **DataFrame** itself.\n",
    "* The method expects either the level's index position or its name."
   ]
  },
  {
   "cell_type": "code",
   "execution_count": 2,
   "metadata": {},
   "outputs": [],
   "source": [
    "import pandas as pd"
   ]
  },
  {
   "cell_type": "code",
   "execution_count": 3,
   "metadata": {},
   "outputs": [],
   "source": [
    "dataframe = pd.read_csv(\"../Crime Prediction in Chicago_Dataset.csv\", index_col=[\"District\", \"Primary Type\"]).sort_index()"
   ]
  },
  {
   "cell_type": "code",
   "execution_count": 4,
   "metadata": {},
   "outputs": [
    {
     "data": {
      "text/html": [
       "<div>\n",
       "<style scoped>\n",
       "    .dataframe tbody tr th:only-of-type {\n",
       "        vertical-align: middle;\n",
       "    }\n",
       "\n",
       "    .dataframe tbody tr th {\n",
       "        vertical-align: top;\n",
       "    }\n",
       "\n",
       "    .dataframe thead th {\n",
       "        text-align: right;\n",
       "    }\n",
       "</style>\n",
       "<table border=\"1\" class=\"dataframe\">\n",
       "  <thead>\n",
       "    <tr style=\"text-align: right;\">\n",
       "      <th></th>\n",
       "      <th></th>\n",
       "      <th>ID</th>\n",
       "      <th>Case Number</th>\n",
       "      <th>Date</th>\n",
       "      <th>Block</th>\n",
       "      <th>IUCR</th>\n",
       "      <th>Description</th>\n",
       "      <th>Location Description</th>\n",
       "      <th>Arrest</th>\n",
       "      <th>Domestic</th>\n",
       "      <th>Beat</th>\n",
       "      <th>Ward</th>\n",
       "      <th>Community Area</th>\n",
       "      <th>FBI Code</th>\n",
       "      <th>X Coordinate</th>\n",
       "      <th>Y Coordinate</th>\n",
       "      <th>Year</th>\n",
       "      <th>Updated On</th>\n",
       "      <th>Latitude</th>\n",
       "      <th>Longitude</th>\n",
       "      <th>Location</th>\n",
       "    </tr>\n",
       "    <tr>\n",
       "      <th>District</th>\n",
       "      <th>Primary Type</th>\n",
       "      <th></th>\n",
       "      <th></th>\n",
       "      <th></th>\n",
       "      <th></th>\n",
       "      <th></th>\n",
       "      <th></th>\n",
       "      <th></th>\n",
       "      <th></th>\n",
       "      <th></th>\n",
       "      <th></th>\n",
       "      <th></th>\n",
       "      <th></th>\n",
       "      <th></th>\n",
       "      <th></th>\n",
       "      <th></th>\n",
       "      <th></th>\n",
       "      <th></th>\n",
       "      <th></th>\n",
       "      <th></th>\n",
       "      <th></th>\n",
       "    </tr>\n",
       "  </thead>\n",
       "  <tbody>\n",
       "    <tr>\n",
       "      <th rowspan=\"5\" valign=\"top\">1</th>\n",
       "      <th>ARSON</th>\n",
       "      <td>12744064</td>\n",
       "      <td>JF296803</td>\n",
       "      <td>6/28/2022 2:20</td>\n",
       "      <td>001XX S CLINTON ST</td>\n",
       "      <td>1020</td>\n",
       "      <td>BY FIRE</td>\n",
       "      <td>COMMERCIAL / BUSINESS OFFICE</td>\n",
       "      <td>False</td>\n",
       "      <td>False</td>\n",
       "      <td>121</td>\n",
       "      <td>34.0</td>\n",
       "      <td>28</td>\n",
       "      <td>9</td>\n",
       "      <td>1172750.0</td>\n",
       "      <td>1899684.0</td>\n",
       "      <td>2022</td>\n",
       "      <td>01-09-2024 15:40</td>\n",
       "      <td>41.880170</td>\n",
       "      <td>-87.641140</td>\n",
       "      <td>(41.880169806, -87.641140205)</td>\n",
       "    </tr>\n",
       "    <tr>\n",
       "      <th>ARSON</th>\n",
       "      <td>12631318</td>\n",
       "      <td>JF160624</td>\n",
       "      <td>03-02-2022 08:40</td>\n",
       "      <td>006XX S HOLDEN CT</td>\n",
       "      <td>1020</td>\n",
       "      <td>BY FIRE</td>\n",
       "      <td>ALLEY</td>\n",
       "      <td>False</td>\n",
       "      <td>False</td>\n",
       "      <td>123</td>\n",
       "      <td>4.0</td>\n",
       "      <td>32</td>\n",
       "      <td>9</td>\n",
       "      <td>1176686.0</td>\n",
       "      <td>1897355.0</td>\n",
       "      <td>2022</td>\n",
       "      <td>01-03-2023 15:40</td>\n",
       "      <td>41.873691</td>\n",
       "      <td>-87.626758</td>\n",
       "      <td>(41.873690873, -87.626758223)</td>\n",
       "    </tr>\n",
       "    <tr>\n",
       "      <th>ARSON</th>\n",
       "      <td>12782929</td>\n",
       "      <td>JF343543</td>\n",
       "      <td>08-04-2022 03:51</td>\n",
       "      <td>010XX S WELLS ST</td>\n",
       "      <td>1020</td>\n",
       "      <td>BY FIRE</td>\n",
       "      <td>STREET</td>\n",
       "      <td>False</td>\n",
       "      <td>False</td>\n",
       "      <td>123</td>\n",
       "      <td>25.0</td>\n",
       "      <td>32</td>\n",
       "      <td>9</td>\n",
       "      <td>1174866.0</td>\n",
       "      <td>1895796.0</td>\n",
       "      <td>2022</td>\n",
       "      <td>01-03-2023 15:40</td>\n",
       "      <td>41.869454</td>\n",
       "      <td>-87.633487</td>\n",
       "      <td>(41.869453794, -87.633486976)</td>\n",
       "    </tr>\n",
       "    <tr>\n",
       "      <th>ASSAULT</th>\n",
       "      <td>12929458</td>\n",
       "      <td>JF518533</td>\n",
       "      <td>12/21/2022 10:15</td>\n",
       "      <td>014XX S MUSEUM CAMPUS DR</td>\n",
       "      <td>560</td>\n",
       "      <td>SIMPLE</td>\n",
       "      <td>COMMERCIAL / BUSINESS OFFICE</td>\n",
       "      <td>False</td>\n",
       "      <td>False</td>\n",
       "      <td>132</td>\n",
       "      <td>4.0</td>\n",
       "      <td>33</td>\n",
       "      <td>08A</td>\n",
       "      <td>1179970.0</td>\n",
       "      <td>1893558.0</td>\n",
       "      <td>2022</td>\n",
       "      <td>11/16/2023 15:40</td>\n",
       "      <td>41.863197</td>\n",
       "      <td>-87.614818</td>\n",
       "      <td>(41.863196881, -87.614817819)</td>\n",
       "    </tr>\n",
       "    <tr>\n",
       "      <th>ASSAULT</th>\n",
       "      <td>12905051</td>\n",
       "      <td>JF489349</td>\n",
       "      <td>11/27/2022 11:46</td>\n",
       "      <td>0000X E CONGRESS PKWY</td>\n",
       "      <td>560</td>\n",
       "      <td>SIMPLE</td>\n",
       "      <td>HOTEL / MOTEL</td>\n",
       "      <td>False</td>\n",
       "      <td>False</td>\n",
       "      <td>113</td>\n",
       "      <td>4.0</td>\n",
       "      <td>32</td>\n",
       "      <td>08A</td>\n",
       "      <td>1176730.0</td>\n",
       "      <td>1898080.0</td>\n",
       "      <td>2022</td>\n",
       "      <td>11/16/2023 15:40</td>\n",
       "      <td>41.875679</td>\n",
       "      <td>-87.626575</td>\n",
       "      <td>(41.875679322, -87.62657476)</td>\n",
       "    </tr>\n",
       "  </tbody>\n",
       "</table>\n",
       "</div>"
      ],
      "text/plain": [
       "                             ID Case Number              Date  \\\n",
       "District Primary Type                                           \n",
       "1        ARSON         12744064    JF296803    6/28/2022 2:20   \n",
       "         ARSON         12631318    JF160624  03-02-2022 08:40   \n",
       "         ARSON         12782929    JF343543  08-04-2022 03:51   \n",
       "         ASSAULT       12929458    JF518533  12/21/2022 10:15   \n",
       "         ASSAULT       12905051    JF489349  11/27/2022 11:46   \n",
       "\n",
       "                                          Block  IUCR Description  \\\n",
       "District Primary Type                                               \n",
       "1        ARSON               001XX S CLINTON ST  1020     BY FIRE   \n",
       "         ARSON                006XX S HOLDEN CT  1020     BY FIRE   \n",
       "         ARSON                 010XX S WELLS ST  1020     BY FIRE   \n",
       "         ASSAULT       014XX S MUSEUM CAMPUS DR   560      SIMPLE   \n",
       "         ASSAULT          0000X E CONGRESS PKWY   560      SIMPLE   \n",
       "\n",
       "                               Location Description  Arrest  Domestic  Beat  \\\n",
       "District Primary Type                                                         \n",
       "1        ARSON         COMMERCIAL / BUSINESS OFFICE   False     False   121   \n",
       "         ARSON                                ALLEY   False     False   123   \n",
       "         ARSON                               STREET   False     False   123   \n",
       "         ASSAULT       COMMERCIAL / BUSINESS OFFICE   False     False   132   \n",
       "         ASSAULT                      HOTEL / MOTEL   False     False   113   \n",
       "\n",
       "                       Ward  Community Area FBI Code  X Coordinate  \\\n",
       "District Primary Type                                                \n",
       "1        ARSON         34.0              28        9     1172750.0   \n",
       "         ARSON          4.0              32        9     1176686.0   \n",
       "         ARSON         25.0              32        9     1174866.0   \n",
       "         ASSAULT        4.0              33      08A     1179970.0   \n",
       "         ASSAULT        4.0              32      08A     1176730.0   \n",
       "\n",
       "                       Y Coordinate  Year        Updated On   Latitude  \\\n",
       "District Primary Type                                                    \n",
       "1        ARSON            1899684.0  2022  01-09-2024 15:40  41.880170   \n",
       "         ARSON            1897355.0  2022  01-03-2023 15:40  41.873691   \n",
       "         ARSON            1895796.0  2022  01-03-2023 15:40  41.869454   \n",
       "         ASSAULT          1893558.0  2022  11/16/2023 15:40  41.863197   \n",
       "         ASSAULT          1898080.0  2022  11/16/2023 15:40  41.875679   \n",
       "\n",
       "                       Longitude                       Location  \n",
       "District Primary Type                                            \n",
       "1        ARSON        -87.641140  (41.880169806, -87.641140205)  \n",
       "         ARSON        -87.626758  (41.873690873, -87.626758223)  \n",
       "         ARSON        -87.633487  (41.869453794, -87.633486976)  \n",
       "         ASSAULT      -87.614818  (41.863196881, -87.614817819)  \n",
       "         ASSAULT      -87.626575   (41.875679322, -87.62657476)  "
      ]
     },
     "execution_count": 4,
     "metadata": {},
     "output_type": "execute_result"
    }
   ],
   "source": [
    "dataframe.head()"
   ]
  },
  {
   "cell_type": "code",
   "execution_count": 6,
   "metadata": {},
   "outputs": [
    {
     "data": {
      "text/plain": [
       "Index([ 1,  1,  1,  1,  1,  1,  1,  1,  1,  1,\n",
       "       ...\n",
       "       25, 25, 25, 25, 25, 25, 31, 31, 31, 31],\n",
       "      dtype='int64', name='District', length=45423)"
      ]
     },
     "execution_count": 6,
     "metadata": {},
     "output_type": "execute_result"
    }
   ],
   "source": [
    "dataframe.index.get_level_values(\"District\")"
   ]
  },
  {
   "cell_type": "code",
   "execution_count": 7,
   "metadata": {},
   "outputs": [
    {
     "data": {
      "text/plain": [
       "Index(['ARSON', 'ARSON', 'ARSON', 'ASSAULT', 'ASSAULT', 'ASSAULT', 'ASSAULT',\n",
       "       'ASSAULT', 'ASSAULT', 'ASSAULT',\n",
       "       ...\n",
       "       'WEAPONS VIOLATION', 'WEAPONS VIOLATION', 'WEAPONS VIOLATION',\n",
       "       'WEAPONS VIOLATION', 'WEAPONS VIOLATION', 'WEAPONS VIOLATION',\n",
       "       'BATTERY', 'CRIMINAL TRESPASS', 'DECEPTIVE PRACTICE', 'THEFT'],\n",
       "      dtype='object', name='Primary Type', length=45423)"
      ]
     },
     "execution_count": 7,
     "metadata": {},
     "output_type": "execute_result"
    }
   ],
   "source": [
    "dataframe.index.get_level_values(\"Primary Type\")"
   ]
  },
  {
   "cell_type": "code",
   "execution_count": 8,
   "metadata": {},
   "outputs": [
    {
     "data": {
      "text/plain": [
       "Index([ 1,  1,  1,  1,  1,  1,  1,  1,  1,  1,\n",
       "       ...\n",
       "       25, 25, 25, 25, 25, 25, 31, 31, 31, 31],\n",
       "      dtype='int64', name='District', length=45423)"
      ]
     },
     "execution_count": 8,
     "metadata": {},
     "output_type": "execute_result"
    }
   ],
   "source": [
    "dataframe.index.get_level_values(0)"
   ]
  },
  {
   "cell_type": "code",
   "execution_count": 9,
   "metadata": {},
   "outputs": [
    {
     "data": {
      "text/plain": [
       "Index(['ARSON', 'ARSON', 'ARSON', 'ASSAULT', 'ASSAULT', 'ASSAULT', 'ASSAULT',\n",
       "       'ASSAULT', 'ASSAULT', 'ASSAULT',\n",
       "       ...\n",
       "       'WEAPONS VIOLATION', 'WEAPONS VIOLATION', 'WEAPONS VIOLATION',\n",
       "       'WEAPONS VIOLATION', 'WEAPONS VIOLATION', 'WEAPONS VIOLATION',\n",
       "       'BATTERY', 'CRIMINAL TRESPASS', 'DECEPTIVE PRACTICE', 'THEFT'],\n",
       "      dtype='object', name='Primary Type', length=45423)"
      ]
     },
     "execution_count": 9,
     "metadata": {},
     "output_type": "execute_result"
    }
   ],
   "source": [
    "dataframe.index.get_level_values(1)"
   ]
  },
  {
   "cell_type": "code",
   "execution_count": null,
   "metadata": {},
   "outputs": [],
   "source": []
  }
 ],
 "metadata": {
  "kernelspec": {
   "display_name": "Python 3",
   "language": "python",
   "name": "python3"
  },
  "language_info": {
   "codemirror_mode": {
    "name": "ipython",
    "version": 3
   },
   "file_extension": ".py",
   "mimetype": "text/x-python",
   "name": "python",
   "nbconvert_exporter": "python",
   "pygments_lexer": "ipython3",
   "version": "3.11.5"
  }
 },
 "nbformat": 4,
 "nbformat_minor": 2
}
