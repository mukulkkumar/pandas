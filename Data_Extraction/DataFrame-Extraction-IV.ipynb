{
 "cells": [
  {
   "cell_type": "markdown",
   "metadata": {},
   "source": [
    "### Second arguments to loc and iloc accessors\n",
    "* The second value inside the square brackets targets the columns.\n",
    "* The **iloc** requires numeric positions for rows and columns.\n",
    "* The **loc** requires labels for rows and columns."
   ]
  },
  {
   "cell_type": "code",
   "execution_count": 2,
   "metadata": {},
   "outputs": [],
   "source": [
    "import pandas as pd"
   ]
  },
  {
   "cell_type": "code",
   "execution_count": 3,
   "metadata": {},
   "outputs": [],
   "source": [
    "dataframe = pd.read_csv(\"../Crime Prediction in Chicago_Dataset.csv\", index_col='ID')"
   ]
  },
  {
   "cell_type": "code",
   "execution_count": 4,
   "metadata": {},
   "outputs": [
    {
     "data": {
      "text/plain": [
       "'JF113025'"
      ]
     },
     "execution_count": 4,
     "metadata": {},
     "output_type": "execute_result"
    }
   ],
   "source": [
    "dataframe.loc[12592454, 'Case Number']"
   ]
  },
  {
   "cell_type": "code",
   "execution_count": 6,
   "metadata": {},
   "outputs": [
    {
     "data": {
      "text/plain": [
       "ID\n",
       "12785595    JF346553\n",
       "12808281    JF373517\n",
       "Name: Case Number, dtype: object"
      ]
     },
     "execution_count": 6,
     "metadata": {},
     "output_type": "execute_result"
    }
   ],
   "source": [
    "dataframe.loc[[12785595, 12808281], 'Case Number']"
   ]
  },
  {
   "cell_type": "code",
   "execution_count": 8,
   "metadata": {},
   "outputs": [
    {
     "data": {
      "text/html": [
       "<div>\n",
       "<style scoped>\n",
       "    .dataframe tbody tr th:only-of-type {\n",
       "        vertical-align: middle;\n",
       "    }\n",
       "\n",
       "    .dataframe tbody tr th {\n",
       "        vertical-align: top;\n",
       "    }\n",
       "\n",
       "    .dataframe thead th {\n",
       "        text-align: right;\n",
       "    }\n",
       "</style>\n",
       "<table border=\"1\" class=\"dataframe\">\n",
       "  <thead>\n",
       "    <tr style=\"text-align: right;\">\n",
       "      <th></th>\n",
       "      <th>Case Number</th>\n",
       "      <th>Date</th>\n",
       "      <th>Block</th>\n",
       "    </tr>\n",
       "    <tr>\n",
       "      <th>ID</th>\n",
       "      <th></th>\n",
       "      <th></th>\n",
       "      <th></th>\n",
       "    </tr>\n",
       "  </thead>\n",
       "  <tbody>\n",
       "    <tr>\n",
       "      <th>12785595</th>\n",
       "      <td>JF346553</td>\n",
       "      <td>08-05-2022 21:00</td>\n",
       "      <td>072XX S UNIVERSITY AVE</td>\n",
       "    </tr>\n",
       "    <tr>\n",
       "      <th>12808281</th>\n",
       "      <td>JF373517</td>\n",
       "      <td>8/14/2022 14:00</td>\n",
       "      <td>055XX W ARDMORE AVE</td>\n",
       "    </tr>\n",
       "  </tbody>\n",
       "</table>\n",
       "</div>"
      ],
      "text/plain": [
       "         Case Number              Date                   Block\n",
       "ID                                                            \n",
       "12785595    JF346553  08-05-2022 21:00  072XX S UNIVERSITY AVE\n",
       "12808281    JF373517   8/14/2022 14:00     055XX W ARDMORE AVE"
      ]
     },
     "execution_count": 8,
     "metadata": {},
     "output_type": "execute_result"
    }
   ],
   "source": [
    "dataframe.loc[[12785595, 12808281], \"Case Number\": \"Block\"]"
   ]
  },
  {
   "cell_type": "code",
   "execution_count": 10,
   "metadata": {},
   "outputs": [
    {
     "data": {
      "text/html": [
       "<div>\n",
       "<style scoped>\n",
       "    .dataframe tbody tr th:only-of-type {\n",
       "        vertical-align: middle;\n",
       "    }\n",
       "\n",
       "    .dataframe tbody tr th {\n",
       "        vertical-align: top;\n",
       "    }\n",
       "\n",
       "    .dataframe thead th {\n",
       "        text-align: right;\n",
       "    }\n",
       "</style>\n",
       "<table border=\"1\" class=\"dataframe\">\n",
       "  <thead>\n",
       "    <tr style=\"text-align: right;\">\n",
       "      <th></th>\n",
       "      <th>Case Number</th>\n",
       "      <th>Date</th>\n",
       "      <th>Block</th>\n",
       "    </tr>\n",
       "    <tr>\n",
       "      <th>ID</th>\n",
       "      <th></th>\n",
       "      <th></th>\n",
       "      <th></th>\n",
       "    </tr>\n",
       "  </thead>\n",
       "  <tbody>\n",
       "    <tr>\n",
       "      <th>12592454</th>\n",
       "      <td>JF113025</td>\n",
       "      <td>1/14/2022 15:55</td>\n",
       "      <td>067XX S MORGAN ST</td>\n",
       "    </tr>\n",
       "    <tr>\n",
       "      <th>12785595</th>\n",
       "      <td>JF346553</td>\n",
       "      <td>08-05-2022 21:00</td>\n",
       "      <td>072XX S UNIVERSITY AVE</td>\n",
       "    </tr>\n",
       "    <tr>\n",
       "      <th>12808281</th>\n",
       "      <td>JF373517</td>\n",
       "      <td>8/14/2022 14:00</td>\n",
       "      <td>055XX W ARDMORE AVE</td>\n",
       "    </tr>\n",
       "    <tr>\n",
       "      <th>12888104</th>\n",
       "      <td>JF469015</td>\n",
       "      <td>11-10-2022 03:47</td>\n",
       "      <td>072XX S MAY ST</td>\n",
       "    </tr>\n",
       "  </tbody>\n",
       "</table>\n",
       "</div>"
      ],
      "text/plain": [
       "         Case Number              Date                   Block\n",
       "ID                                                            \n",
       "12592454    JF113025   1/14/2022 15:55       067XX S MORGAN ST\n",
       "12785595    JF346553  08-05-2022 21:00  072XX S UNIVERSITY AVE\n",
       "12808281    JF373517   8/14/2022 14:00     055XX W ARDMORE AVE\n",
       "12888104    JF469015  11-10-2022 03:47          072XX S MAY ST"
      ]
     },
     "execution_count": 10,
     "metadata": {},
     "output_type": "execute_result"
    }
   ],
   "source": [
    "dataframe.loc[12592454: 12888104, \"Case Number\": \"Block\"]"
   ]
  },
  {
   "cell_type": "code",
   "execution_count": 13,
   "metadata": {},
   "outputs": [
    {
     "data": {
      "text/html": [
       "<div>\n",
       "<style scoped>\n",
       "    .dataframe tbody tr th:only-of-type {\n",
       "        vertical-align: middle;\n",
       "    }\n",
       "\n",
       "    .dataframe tbody tr th {\n",
       "        vertical-align: top;\n",
       "    }\n",
       "\n",
       "    .dataframe thead th {\n",
       "        text-align: right;\n",
       "    }\n",
       "</style>\n",
       "<table border=\"1\" class=\"dataframe\">\n",
       "  <thead>\n",
       "    <tr style=\"text-align: right;\">\n",
       "      <th></th>\n",
       "      <th>Case Number</th>\n",
       "      <th>Block</th>\n",
       "      <th>Description</th>\n",
       "    </tr>\n",
       "    <tr>\n",
       "      <th>ID</th>\n",
       "      <th></th>\n",
       "      <th></th>\n",
       "      <th></th>\n",
       "    </tr>\n",
       "  </thead>\n",
       "  <tbody>\n",
       "    <tr>\n",
       "      <th>12592454</th>\n",
       "      <td>JF113025</td>\n",
       "      <td>067XX S MORGAN ST</td>\n",
       "      <td>HARASSMENT BY ELECTRONIC MEANS</td>\n",
       "    </tr>\n",
       "    <tr>\n",
       "      <th>12785595</th>\n",
       "      <td>JF346553</td>\n",
       "      <td>072XX S UNIVERSITY AVE</td>\n",
       "      <td>SEXUAL EXPLOITATION OF A CHILD</td>\n",
       "    </tr>\n",
       "    <tr>\n",
       "      <th>12808281</th>\n",
       "      <td>JF373517</td>\n",
       "      <td>055XX W ARDMORE AVE</td>\n",
       "      <td>AGGRAVATED CRIMINAL SEXUAL ABUSE</td>\n",
       "    </tr>\n",
       "    <tr>\n",
       "      <th>12888104</th>\n",
       "      <td>JF469015</td>\n",
       "      <td>072XX S MAY ST</td>\n",
       "      <td>RECKLESS FIREARM DISCHARGE</td>\n",
       "    </tr>\n",
       "  </tbody>\n",
       "</table>\n",
       "</div>"
      ],
      "text/plain": [
       "         Case Number                   Block                       Description\n",
       "ID                                                                            \n",
       "12592454    JF113025       067XX S MORGAN ST    HARASSMENT BY ELECTRONIC MEANS\n",
       "12785595    JF346553  072XX S UNIVERSITY AVE    SEXUAL EXPLOITATION OF A CHILD\n",
       "12808281    JF373517     055XX W ARDMORE AVE  AGGRAVATED CRIMINAL SEXUAL ABUSE\n",
       "12888104    JF469015          072XX S MAY ST        RECKLESS FIREARM DISCHARGE"
      ]
     },
     "execution_count": 13,
     "metadata": {},
     "output_type": "execute_result"
    }
   ],
   "source": [
    "dataframe.loc[12592454: 12888104, [\"Case Number\", \"Block\", \"Description\"]]"
   ]
  },
  {
   "cell_type": "code",
   "execution_count": 14,
   "metadata": {},
   "outputs": [
    {
     "data": {
      "text/plain": [
       "'RECKLESS FIREARM DISCHARGE'"
      ]
     },
     "execution_count": 14,
     "metadata": {},
     "output_type": "execute_result"
    }
   ],
   "source": [
    "dataframe.iloc[3, 5]"
   ]
  },
  {
   "cell_type": "code",
   "execution_count": 15,
   "metadata": {},
   "outputs": [
    {
     "data": {
      "text/plain": [
       "Case Number                                     JF373517\n",
       "Date                                     8/14/2022 14:00\n",
       "Block                                055XX W ARDMORE AVE\n",
       "IUCR                                                1562\n",
       "Primary Type                                 SEX OFFENSE\n",
       "Description             AGGRAVATED CRIMINAL SEXUAL ABUSE\n",
       "Location Description                           RESIDENCE\n",
       "Arrest                                             False\n",
       "Domestic                                           False\n",
       "Beat                                                1621\n",
       "District                                              16\n",
       "Ward                                                39.0\n",
       "Community Area                                        11\n",
       "FBI Code                                              17\n",
       "X Coordinate                                   1138383.0\n",
       "Y Coordinate                                   1937953.0\n",
       "Year                                                2022\n",
       "Updated On                               9/14/2023 15:41\n",
       "Latitude                                       41.985875\n",
       "Longitude                                     -87.766404\n",
       "Location                   (41.985875279, -87.766403857)\n",
       "Name: 12808281, dtype: object"
      ]
     },
     "execution_count": 15,
     "metadata": {},
     "output_type": "execute_result"
    }
   ],
   "source": [
    "dataframe.iloc[2]"
   ]
  },
  {
   "cell_type": "code",
   "execution_count": 16,
   "metadata": {},
   "outputs": [
    {
     "data": {
      "text/plain": [
       "'1562'"
      ]
     },
     "execution_count": 16,
     "metadata": {},
     "output_type": "execute_result"
    }
   ],
   "source": [
    "dataframe.iloc[2, 3]"
   ]
  },
  {
   "cell_type": "code",
   "execution_count": 18,
   "metadata": {},
   "outputs": [
    {
     "data": {
      "text/html": [
       "<div>\n",
       "<style scoped>\n",
       "    .dataframe tbody tr th:only-of-type {\n",
       "        vertical-align: middle;\n",
       "    }\n",
       "\n",
       "    .dataframe tbody tr th {\n",
       "        vertical-align: top;\n",
       "    }\n",
       "\n",
       "    .dataframe thead th {\n",
       "        text-align: right;\n",
       "    }\n",
       "</style>\n",
       "<table border=\"1\" class=\"dataframe\">\n",
       "  <thead>\n",
       "    <tr style=\"text-align: right;\">\n",
       "      <th></th>\n",
       "      <th>IUCR</th>\n",
       "      <th>Description</th>\n",
       "    </tr>\n",
       "    <tr>\n",
       "      <th>ID</th>\n",
       "      <th></th>\n",
       "      <th></th>\n",
       "    </tr>\n",
       "  </thead>\n",
       "  <tbody>\n",
       "    <tr>\n",
       "      <th>12592454</th>\n",
       "      <td>2826</td>\n",
       "      <td>HARASSMENT BY ELECTRONIC MEANS</td>\n",
       "    </tr>\n",
       "    <tr>\n",
       "      <th>12808281</th>\n",
       "      <td>1562</td>\n",
       "      <td>AGGRAVATED CRIMINAL SEXUAL ABUSE</td>\n",
       "    </tr>\n",
       "  </tbody>\n",
       "</table>\n",
       "</div>"
      ],
      "text/plain": [
       "          IUCR                       Description\n",
       "ID                                              \n",
       "12592454  2826    HARASSMENT BY ELECTRONIC MEANS\n",
       "12808281  1562  AGGRAVATED CRIMINAL SEXUAL ABUSE"
      ]
     },
     "execution_count": 18,
     "metadata": {},
     "output_type": "execute_result"
    }
   ],
   "source": [
    "dataframe.iloc[[0, 2], [3, 5]]"
   ]
  },
  {
   "cell_type": "code",
   "execution_count": 19,
   "metadata": {},
   "outputs": [
    {
     "data": {
      "text/html": [
       "<div>\n",
       "<style scoped>\n",
       "    .dataframe tbody tr th:only-of-type {\n",
       "        vertical-align: middle;\n",
       "    }\n",
       "\n",
       "    .dataframe tbody tr th {\n",
       "        vertical-align: top;\n",
       "    }\n",
       "\n",
       "    .dataframe thead th {\n",
       "        text-align: right;\n",
       "    }\n",
       "</style>\n",
       "<table border=\"1\" class=\"dataframe\">\n",
       "  <thead>\n",
       "    <tr style=\"text-align: right;\">\n",
       "      <th></th>\n",
       "      <th>Case Number</th>\n",
       "      <th>Date</th>\n",
       "    </tr>\n",
       "    <tr>\n",
       "      <th>ID</th>\n",
       "      <th></th>\n",
       "      <th></th>\n",
       "    </tr>\n",
       "  </thead>\n",
       "  <tbody>\n",
       "    <tr>\n",
       "      <th>12592454</th>\n",
       "      <td>JF113025</td>\n",
       "      <td>1/14/2022 15:55</td>\n",
       "    </tr>\n",
       "    <tr>\n",
       "      <th>12785595</th>\n",
       "      <td>JF346553</td>\n",
       "      <td>08-05-2022 21:00</td>\n",
       "    </tr>\n",
       "    <tr>\n",
       "      <th>12808281</th>\n",
       "      <td>JF373517</td>\n",
       "      <td>8/14/2022 14:00</td>\n",
       "    </tr>\n",
       "    <tr>\n",
       "      <th>12888104</th>\n",
       "      <td>JF469015</td>\n",
       "      <td>11-10-2022 03:47</td>\n",
       "    </tr>\n",
       "    <tr>\n",
       "      <th>13209277</th>\n",
       "      <td>JG422539</td>\n",
       "      <td>8/15/2022 9:00</td>\n",
       "    </tr>\n",
       "  </tbody>\n",
       "</table>\n",
       "</div>"
      ],
      "text/plain": [
       "         Case Number              Date\n",
       "ID                                    \n",
       "12592454    JF113025   1/14/2022 15:55\n",
       "12785595    JF346553  08-05-2022 21:00\n",
       "12808281    JF373517   8/14/2022 14:00\n",
       "12888104    JF469015  11-10-2022 03:47\n",
       "13209277    JG422539    8/15/2022 9:00"
      ]
     },
     "execution_count": 19,
     "metadata": {},
     "output_type": "execute_result"
    }
   ],
   "source": [
    "dataframe.iloc[:5, :2]"
   ]
  },
  {
   "cell_type": "code",
   "execution_count": null,
   "metadata": {},
   "outputs": [],
   "source": []
  }
 ],
 "metadata": {
  "kernelspec": {
   "display_name": "Python 3",
   "language": "python",
   "name": "python3"
  },
  "language_info": {
   "codemirror_mode": {
    "name": "ipython",
    "version": 3
   },
   "file_extension": ".py",
   "mimetype": "text/x-python",
   "name": "python",
   "nbconvert_exporter": "python",
   "pygments_lexer": "ipython3",
   "version": "3.11.5"
  }
 },
 "nbformat": 4,
 "nbformat_minor": 2
}
